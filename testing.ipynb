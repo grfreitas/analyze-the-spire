{
 "cells": [
  {
   "cell_type": "code",
   "execution_count": 1,
   "metadata": {},
   "outputs": [],
   "source": [
    "%load_ext autoreload\n",
    "%autoreload 2"
   ]
  },
  {
   "cell_type": "code",
   "execution_count": 2,
   "metadata": {},
   "outputs": [],
   "source": [
    "import sts"
   ]
  },
  {
   "cell_type": "code",
   "execution_count": 3,
   "metadata": {},
   "outputs": [],
   "source": [
    "draw_pile = sts.DrawPile(sts.Deck().cards)\n",
    "discard_pile = sts.DiscardPile()"
   ]
  },
  {
   "cell_type": "code",
   "execution_count": 4,
   "metadata": {},
   "outputs": [],
   "source": [
    "hand = sts.Hand(\n",
    "    draw_pile=draw_pile,\n",
    "    discard_pile=discard_pile,\n",
    ")"
   ]
  },
  {
   "cell_type": "code",
   "execution_count": 5,
   "metadata": {},
   "outputs": [],
   "source": [
    "def print_piles():\n",
    "    print(f\"Draw pile: {draw_pile}\")\n",
    "    print(f\"Discard pile: {discard_pile}\")\n",
    "    print(f\"Hand: {hand}\")"
   ]
  },
  {
   "cell_type": "markdown",
   "metadata": {},
   "source": [
    "---"
   ]
  },
  {
   "cell_type": "markdown",
   "metadata": {},
   "source": [
    "T1"
   ]
  },
  {
   "cell_type": "code",
   "execution_count": 6,
   "metadata": {},
   "outputs": [],
   "source": [
    "hand.draw(n=5)"
   ]
  },
  {
   "cell_type": "code",
   "execution_count": 7,
   "metadata": {},
   "outputs": [
    {
     "name": "stdout",
     "output_type": "stream",
     "text": [
      "Draw pile: [Defend, Bash, Strike, Strike, Defend]\n",
      "Discard pile: []\n",
      "Hand: [Defend, Strike, Strike, Defend, Strike]\n"
     ]
    }
   ],
   "source": [
    "print_piles()"
   ]
  },
  {
   "cell_type": "code",
   "execution_count": 8,
   "metadata": {},
   "outputs": [],
   "source": [
    "hand.play(hand.cards[0])"
   ]
  },
  {
   "cell_type": "code",
   "execution_count": 9,
   "metadata": {},
   "outputs": [
    {
     "name": "stdout",
     "output_type": "stream",
     "text": [
      "Draw pile: [Defend, Bash, Strike, Strike, Defend]\n",
      "Discard pile: [Defend]\n",
      "Hand: [Strike, Strike, Defend, Strike]\n"
     ]
    }
   ],
   "source": [
    "print_piles()"
   ]
  },
  {
   "cell_type": "code",
   "execution_count": 10,
   "metadata": {},
   "outputs": [],
   "source": [
    "hand.play(hand.cards[0])"
   ]
  },
  {
   "cell_type": "code",
   "execution_count": 11,
   "metadata": {},
   "outputs": [
    {
     "name": "stdout",
     "output_type": "stream",
     "text": [
      "Draw pile: [Defend, Bash, Strike, Strike, Defend]\n",
      "Discard pile: [Defend, Strike]\n",
      "Hand: [Strike, Defend, Strike]\n"
     ]
    }
   ],
   "source": [
    "print_piles()"
   ]
  },
  {
   "cell_type": "code",
   "execution_count": 12,
   "metadata": {},
   "outputs": [],
   "source": [
    "hand.play(hand.cards[0])"
   ]
  },
  {
   "cell_type": "code",
   "execution_count": 13,
   "metadata": {},
   "outputs": [
    {
     "name": "stdout",
     "output_type": "stream",
     "text": [
      "Draw pile: [Defend, Bash, Strike, Strike, Defend]\n",
      "Discard pile: [Defend, Strike, Strike]\n",
      "Hand: [Defend, Strike]\n"
     ]
    }
   ],
   "source": [
    "print_piles()"
   ]
  },
  {
   "cell_type": "code",
   "execution_count": 14,
   "metadata": {},
   "outputs": [],
   "source": [
    "hand.end_turn()"
   ]
  },
  {
   "cell_type": "code",
   "execution_count": 15,
   "metadata": {},
   "outputs": [
    {
     "name": "stdout",
     "output_type": "stream",
     "text": [
      "Draw pile: [Defend, Bash, Strike, Strike, Defend]\n",
      "Discard pile: [Defend, Strike, Strike, Defend, Strike]\n",
      "Hand: []\n"
     ]
    }
   ],
   "source": [
    "print_piles()"
   ]
  },
  {
   "cell_type": "markdown",
   "metadata": {},
   "source": [
    "---"
   ]
  },
  {
   "cell_type": "markdown",
   "metadata": {},
   "source": [
    "T2"
   ]
  },
  {
   "cell_type": "code",
   "execution_count": 16,
   "metadata": {},
   "outputs": [],
   "source": [
    "hand.draw(n=5)"
   ]
  },
  {
   "cell_type": "code",
   "execution_count": 17,
   "metadata": {},
   "outputs": [
    {
     "name": "stdout",
     "output_type": "stream",
     "text": [
      "Draw pile: []\n",
      "Discard pile: [Defend, Strike, Strike, Defend, Strike]\n",
      "Hand: [Defend, Strike, Strike, Bash, Defend]\n"
     ]
    }
   ],
   "source": [
    "print_piles()"
   ]
  },
  {
   "cell_type": "code",
   "execution_count": 18,
   "metadata": {},
   "outputs": [],
   "source": [
    "hand.play(hand.cards[0])"
   ]
  },
  {
   "cell_type": "code",
   "execution_count": 19,
   "metadata": {},
   "outputs": [
    {
     "name": "stdout",
     "output_type": "stream",
     "text": [
      "Draw pile: []\n",
      "Discard pile: [Defend, Strike, Strike, Defend, Strike, Defend]\n",
      "Hand: [Strike, Strike, Bash, Defend]\n"
     ]
    }
   ],
   "source": [
    "print_piles()"
   ]
  },
  {
   "cell_type": "code",
   "execution_count": 20,
   "metadata": {},
   "outputs": [],
   "source": [
    "hand.play(hand.cards[0])"
   ]
  },
  {
   "cell_type": "code",
   "execution_count": 21,
   "metadata": {},
   "outputs": [
    {
     "name": "stdout",
     "output_type": "stream",
     "text": [
      "Draw pile: []\n",
      "Discard pile: [Defend, Strike, Strike, Defend, Strike, Defend, Strike]\n",
      "Hand: [Strike, Bash, Defend]\n"
     ]
    }
   ],
   "source": [
    "print_piles()"
   ]
  },
  {
   "cell_type": "code",
   "execution_count": 22,
   "metadata": {},
   "outputs": [],
   "source": [
    "hand.play(hand.cards[0])"
   ]
  },
  {
   "cell_type": "code",
   "execution_count": 23,
   "metadata": {},
   "outputs": [
    {
     "name": "stdout",
     "output_type": "stream",
     "text": [
      "Draw pile: []\n",
      "Discard pile: [Defend, Strike, Strike, Defend, Strike, Defend, Strike, Strike]\n",
      "Hand: [Bash, Defend]\n"
     ]
    }
   ],
   "source": [
    "print_piles()"
   ]
  },
  {
   "cell_type": "code",
   "execution_count": 24,
   "metadata": {},
   "outputs": [],
   "source": [
    "hand.end_turn()"
   ]
  },
  {
   "cell_type": "code",
   "execution_count": 25,
   "metadata": {},
   "outputs": [
    {
     "name": "stdout",
     "output_type": "stream",
     "text": [
      "Draw pile: []\n",
      "Discard pile: [Defend, Strike, Strike, Defend, Strike, Defend, Strike, Strike, Bash, Defend]\n",
      "Hand: []\n"
     ]
    }
   ],
   "source": [
    "print_piles()"
   ]
  },
  {
   "cell_type": "markdown",
   "metadata": {},
   "source": [
    "---"
   ]
  },
  {
   "cell_type": "markdown",
   "metadata": {},
   "source": [
    "T3"
   ]
  },
  {
   "cell_type": "code",
   "execution_count": 26,
   "metadata": {},
   "outputs": [],
   "source": [
    "hand.draw(n=5)"
   ]
  },
  {
   "cell_type": "code",
   "execution_count": 27,
   "metadata": {},
   "outputs": [
    {
     "name": "stdout",
     "output_type": "stream",
     "text": [
      "Draw pile: [Strike, Strike, Strike, Bash, Strike]\n",
      "Discard pile: []\n",
      "Hand: [Defend, Defend, Defend, Defend, Strike]\n"
     ]
    }
   ],
   "source": [
    "print_piles()"
   ]
  },
  {
   "cell_type": "code",
   "execution_count": 28,
   "metadata": {},
   "outputs": [],
   "source": [
    "hand.play(hand.cards[0])"
   ]
  },
  {
   "cell_type": "code",
   "execution_count": 29,
   "metadata": {},
   "outputs": [
    {
     "name": "stdout",
     "output_type": "stream",
     "text": [
      "Draw pile: [Strike, Strike, Strike, Bash, Strike]\n",
      "Discard pile: [Defend]\n",
      "Hand: [Defend, Defend, Defend, Strike]\n"
     ]
    }
   ],
   "source": [
    "print_piles()"
   ]
  },
  {
   "cell_type": "code",
   "execution_count": 30,
   "metadata": {},
   "outputs": [],
   "source": [
    "hand.play(hand.cards[0])"
   ]
  },
  {
   "cell_type": "markdown",
   "metadata": {},
   "source": []
  },
  {
   "cell_type": "code",
   "execution_count": 31,
   "metadata": {},
   "outputs": [
    {
     "name": "stdout",
     "output_type": "stream",
     "text": [
      "Draw pile: [Strike, Strike, Strike, Bash, Strike]\n",
      "Discard pile: [Defend, Defend]\n",
      "Hand: [Defend, Defend, Strike]\n"
     ]
    }
   ],
   "source": [
    "print_piles()"
   ]
  },
  {
   "cell_type": "code",
   "execution_count": 32,
   "metadata": {},
   "outputs": [],
   "source": [
    "hand.play(hand.cards[0])"
   ]
  },
  {
   "cell_type": "code",
   "execution_count": 33,
   "metadata": {},
   "outputs": [
    {
     "name": "stdout",
     "output_type": "stream",
     "text": [
      "Draw pile: [Strike, Strike, Strike, Bash, Strike]\n",
      "Discard pile: [Defend, Defend, Defend]\n",
      "Hand: [Defend, Strike]\n"
     ]
    }
   ],
   "source": [
    "print_piles()"
   ]
  },
  {
   "cell_type": "code",
   "execution_count": 34,
   "metadata": {},
   "outputs": [],
   "source": [
    "hand.end_turn()"
   ]
  },
  {
   "cell_type": "code",
   "execution_count": 35,
   "metadata": {},
   "outputs": [
    {
     "name": "stdout",
     "output_type": "stream",
     "text": [
      "Draw pile: [Strike, Strike, Strike, Bash, Strike]\n",
      "Discard pile: [Defend, Defend, Defend, Defend, Strike]\n",
      "Hand: []\n"
     ]
    }
   ],
   "source": [
    "print_piles()"
   ]
  },
  {
   "cell_type": "markdown",
   "metadata": {},
   "source": [
    "---"
   ]
  },
  {
   "cell_type": "code",
   "execution_count": 38,
   "metadata": {},
   "outputs": [],
   "source": [
    "deck = sts.Deck()  \n",
    "game = sts.GameState(deck)"
   ]
  },
  {
   "cell_type": "code",
   "execution_count": 81,
   "metadata": {},
   "outputs": [
    {
     "name": "stdout",
     "output_type": "stream",
     "text": [
      "Damage per turn: [27.0]\n",
      "Total damage: 27.0\n",
      "Vulnerability applied for 0 turns after battle\n"
     ]
    }
   ],
   "source": [
    "# Simulate a 5-turn battle\n",
    "damage_sequence = game.simulate_battle(num_turns=1)\n",
    "print(f\"Damage per turn: {damage_sequence}\")\n",
    "print(f\"Total damage: {sum(damage_sequence)}\")\n",
    "print(f\"Vulnerability applied for {game.vulnerable_turns} turns after battle\")"
   ]
  },
  {
   "cell_type": "code",
   "execution_count": 85,
   "metadata": {},
   "outputs": [
    {
     "data": {
      "text/plain": [
       "[Strike, Bash, Defend, Defend, Defend, Strike, Strike, Strike, Strike, Defend]"
      ]
     },
     "execution_count": 85,
     "metadata": {},
     "output_type": "execute_result"
    }
   ],
   "source": [
    "game.discard_pile"
   ]
  },
  {
   "cell_type": "code",
   "execution_count": null,
   "metadata": {},
   "outputs": [],
   "source": []
  },
  {
   "cell_type": "code",
   "execution_count": 92,
   "metadata": {},
   "outputs": [],
   "source": [
    "# Statistical analysis across multiple trials\n",
    "def analyze_consistency(deck_config, trials=1000, turns=5):\n",
    "    total_results = []\n",
    "    for _ in range(trials):\n",
    "        game = sts.GameState(sts.Deck(**deck_config))\n",
    "        total_results.append(sum(game.simulate_battle(turns)))\n",
    "    \n",
    "    mean_damage = sum(total_results) / trials\n",
    "    std_dev = (sum((x - mean_damage)**2 for x in total_results) / trials)**0.5\n",
    "    return mean_damage, std_dev"
   ]
  },
  {
   "cell_type": "code",
   "execution_count": 99,
   "metadata": {},
   "outputs": [
    {
     "name": "stdout",
     "output_type": "stream",
     "text": [
      "4 Defends: μ=91.2, σ=10.3, CV=11.3%\n",
      "3 Defends: μ=95.1, σ=9.0, CV=9.5%\n",
      "2 Defends: μ=94.6, σ=5.2, CV=5.5%\n",
      "1 Defend: μ=90.0, σ=0.0, CV=0.0%\n"
     ]
    }
   ],
   "source": [
    "# Compare different deck configurations\n",
    "configs = {\n",
    "    # '5 Strikes': {'strikes': 5, 'defends': 4},\n",
    "    # '4 Strikes': {'strikes': 4, 'defends': 4},\n",
    "    # '3 Strikes': {'strikes': 3, 'defends': 4},\n",
    "    # '2 Strikes': {'strikes': 2, 'defends': 4},\n",
    "    # '1 Strike': {'strikes': 1, 'defends': 4},\n",
    "    '4 Defends': {'strikes': 5, 'defends': 4},\n",
    "    '3 Defends': {'strikes': 5, 'defends': 3},\n",
    "    '2 Defends': {'strikes': 5, 'defends': 2},\n",
    "    '1 Defend': {'strikes': 5, 'defends': 1},\n",
    "}\n",
    "\n",
    "for name, config in configs.items():\n",
    "    mean, std = analyze_consistency(config)\n",
    "    print(f\"{name}: μ={mean:.1f}, σ={std:.1f}, CV={(std/mean)*100:.1f}%\")"
   ]
  },
  {
   "cell_type": "code",
   "execution_count": null,
   "metadata": {},
   "outputs": [],
   "source": []
  },
  {
   "cell_type": "code",
   "execution_count": null,
   "metadata": {},
   "outputs": [],
   "source": []
  },
  {
   "cell_type": "code",
   "execution_count": null,
   "metadata": {},
   "outputs": [],
   "source": []
  },
  {
   "cell_type": "code",
   "execution_count": null,
   "metadata": {},
   "outputs": [],
   "source": []
  },
  {
   "cell_type": "code",
   "execution_count": null,
   "metadata": {},
   "outputs": [],
   "source": []
  }
 ],
 "metadata": {
  "kernelspec": {
   "display_name": "Python 3",
   "language": "python",
   "name": "python3"
  },
  "language_info": {
   "codemirror_mode": {
    "name": "ipython",
    "version": 3
   },
   "file_extension": ".py",
   "mimetype": "text/x-python",
   "name": "python",
   "nbconvert_exporter": "python",
   "pygments_lexer": "ipython3",
   "version": "3.11.2"
  }
 },
 "nbformat": 4,
 "nbformat_minor": 2
}
